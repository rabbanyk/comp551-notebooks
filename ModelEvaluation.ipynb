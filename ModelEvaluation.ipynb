{
 "cells": [
  {
   "cell_type": "markdown",
   "source": [
    "[![Open In Colab](https://colab.research.google.com/assets/colab-badge.svg)](https://colab.research.google.com/github/yueliyl/comp551-notebooks/blob/master/ModelEvaluation.ipynb)\n",
    "\n",
    "# Model Evaluation and Selection\n",
    "\n",
    "We are going to work a simulated dataset using the following function, which simulates 90 \"normal\" samples and 90 \"cancer\" samples from a two-dimensional Gaussian distributions.\n",
    "\n",
    "Note that the normal samples are sampled from 3 different Gaussian distributions with different means and covariances whereas the cancer samples are sampled from 2 different Gaussian distributions."
   ],
   "metadata": {
    "collapsed": false,
    "pycharm": {
     "name": "#%% md\n"
    }
   }
  },
  {
   "cell_type": "code",
   "execution_count": 28,
   "outputs": [],
   "source": [
    "import numpy as np\n",
    "from sklearn.neighbors import KNeighborsClassifier\n",
    "import matplotlib.pyplot as plt\n",
    "from sklearn.model_selection import train_test_split\n",
    "np.random.seed(1234)"
   ],
   "metadata": {
    "collapsed": false,
    "pycharm": {
     "name": "#%%\n"
    }
   }
  },
  {
   "cell_type": "code",
   "execution_count": 29,
   "outputs": [
    {
     "name": "stderr",
     "output_type": "stream",
     "text": [
      "/var/folders/jp/b2sr0gz54vj1pmbj1cxq4p5r0000gn/T/ipykernel_98418/2813543773.py:36: RuntimeWarning: covariance is not positive-semidefinite.\n",
      "  cancer1 = np.random.multivariate_normal(means,cov, npoints)\n",
      "/var/folders/jp/b2sr0gz54vj1pmbj1cxq4p5r0000gn/T/ipykernel_98418/2813543773.py:44: RuntimeWarning: covariance is not positive-semidefinite.\n",
      "  cancer2 = np.random.multivariate_normal(means,cov, npoints)\n"
     ]
    }
   ],
   "source": [
    "def simulate_prostate_cancer_data():\n",
    "    # simulate normal samples\n",
    "    npoints = 30\n",
    "    means=[70,70]\n",
    "    #cov = [[90,40],[40,50]]\n",
    "    cov = [[120,60],[60,50]]\n",
    "    np.random.seed(3)\n",
    "\n",
    "    normal1 = np.random.multivariate_normal(means,cov, npoints)\n",
    "    labels_normal1 = np.zeros((npoints, 1))\n",
    "    npoints = 30\n",
    "    means=[140,60]\n",
    "    #cov = [[90,40],[40,50]]\n",
    "    cov = [[160,30],[30,50]]\n",
    "\n",
    "    normal2 = np.random.multivariate_normal(means,cov, npoints)\n",
    "    labels_normal2 = np.zeros((npoints, 1))\n",
    "\n",
    "    npoints = 30\n",
    "    means=[250,110]\n",
    "    #cov = [[90,40],[40,50]]\n",
    "    cov = [[300,30],[30,30]]\n",
    "\n",
    "    normal3 = np.random.multivariate_normal(means,cov, npoints)\n",
    "    labels_normal3 = np.zeros((npoints, 1))\n",
    "\n",
    "    normal=np.concatenate((normal1,normal2,normal3))\n",
    "    labels_normal=np.concatenate((labels_normal1,labels_normal2,labels_normal3))\n",
    "\n",
    "    # simulate cancer samples\n",
    "    npoints = 50\n",
    "    means=[155,80]\n",
    "    #cov = [[150,50],[50,50]]\n",
    "    cov = [[4000,-600],[-600,50]]\n",
    "\n",
    "    cancer1 = np.random.multivariate_normal(means,cov, npoints)\n",
    "    labels_cancer1 = np.ones((npoints, 1))\n",
    "\n",
    "    npoints = 40\n",
    "    means=[50,80]\n",
    "    #cov = [[150,50],[50,50]]\n",
    "    cov = [[40,-60],[-60,50]]\n",
    "\n",
    "    cancer2 = np.random.multivariate_normal(means,cov, npoints)\n",
    "    labels_cancer2 = np.ones((npoints, 1))\n",
    "\n",
    "    cancer=np.concatenate((cancer1,cancer2))\n",
    "    labels_cancer=np.concatenate((labels_cancer1,labels_cancer2))\n",
    "\n",
    "    X= np.concatenate((normal,cancer), axis=0)\n",
    "    y = np.concatenate((labels_normal,labels_cancer), axis=0).squeeze() # to (N,)\n",
    "\n",
    "    return X, y\n",
    "\n",
    "X,y = simulate_prostate_cancer_data()"
   ],
   "metadata": {
    "collapsed": false,
    "pycharm": {
     "name": "#%%\n"
    }
   }
  },
  {
   "cell_type": "code",
   "execution_count": 30,
   "outputs": [],
   "source": [
    "X_train, X_test, y_train, y_test = train_test_split(X, y, test_size = 0.2, random_state=1, shuffle=True)"
   ],
   "metadata": {
    "collapsed": false,
    "pycharm": {
     "name": "#%%\n"
    }
   }
  },
  {
   "cell_type": "markdown",
   "source": [
    "We can visualize the simulated data points as follows."
   ],
   "metadata": {
    "collapsed": false,
    "pycharm": {
     "name": "#%% md\n"
    }
   }
  },
  {
   "cell_type": "code",
   "execution_count": 31,
   "outputs": [
    {
     "data": {
      "text/plain": "<Figure size 432x288 with 1 Axes>",
      "image/png": "[encoded data removed]"
     },
     "metadata": {
      "needs_background": "light"
     },
     "output_type": "display_data"
    }
   ],
   "source": [
    "plt.clf()\n",
    "positive_train = y_train==1\n",
    "negative_train = y_train==0\n",
    "\n",
    "positive_test = y_test==1\n",
    "negative_test = y_test==0\n",
    "\n",
    "plt.plot(X_train[positive_train,0],X_train[positive_train,1],\"or\",label=\"Positive training examples\")\n",
    "plt.plot(X_train[negative_train,0],X_train[negative_train,1],\"ob\",label=\"Negative training examples\")\n",
    "\n",
    "plt.plot(X_test[positive_test,0],X_test[positive_test,1],\"xr\",label=\"Positive testing examples\")\n",
    "plt.plot(X_test[negative_test,0],X_test[negative_test,1],\"xb\",label=\"Negative testing examples\")\n",
    "\n",
    "plt.xlabel(\"CBC\")\n",
    "plt.ylabel(\"PSA\")\n",
    "plt.legend(loc='best')\n",
    "plt.savefig(\"train_test_scatterplot.png\", bbox_inches='tight', dpi=300)"
   ],
   "metadata": {
    "collapsed": false,
    "pycharm": {
     "name": "#%%\n"
    }
   }
  },
  {
   "cell_type": "markdown",
   "source": [
    "Instead of importing our implementation of `KNN`, to keep things simple, let's use `scikit-learn`'s `KNN` implementation."
   ],
   "metadata": {
    "collapsed": false,
    "pycharm": {
     "name": "#%% md\n"
    }
   }
  },
  {
   "cell_type": "code",
   "execution_count": 32,
   "outputs": [],
   "source": [
    "from sklearn.neighbors import KNeighborsClassifier\n",
    "knn = KNeighborsClassifier() # n_neighbors=5 (default)\n",
    "fit = knn.fit(X_train, y_train)"
   ],
   "metadata": {
    "collapsed": false,
    "pycharm": {
     "name": "#%%\n"
    }
   }
  },
  {
   "cell_type": "markdown",
   "source": [
    "Evaluate the prediction accuracy on training and testing as follows"
   ],
   "metadata": {
    "collapsed": false,
    "pycharm": {
     "name": "#%% md\n"
    }
   }
  },
  {
   "cell_type": "code",
   "execution_count": 33,
   "outputs": [
    {
     "name": "stdout",
     "output_type": "stream",
     "text": [
      "0.9305555555555556\n",
      "0.9722222222222222\n"
     ]
    }
   ],
   "source": [
    "y_train_pred = fit.predict(X_train)\n",
    "y_test_pred = fit.predict(X_test)\n",
    "\n",
    "acc_train = np.sum(y_train_pred==y_train)/len(y_train)\n",
    "acc_test = np.sum(y_test_pred==y_test)/len(y_test)\n",
    "\n",
    "print(acc_train)\n",
    "print(acc_test)"
   ],
   "metadata": {
    "collapsed": false,
    "pycharm": {
     "name": "#%%\n"
    }
   }
  },
  {
   "cell_type": "markdown",
   "source": [
    "## Generalization error\n",
    "What we really care about is the performance of the model on new data.\n",
    "In other words, we want to see how our model **generalizes** to unseen data.\n",
    "An assumption that justifies deployment of our model on unseen data is the fact that our training and deployment data come from the *same* distribution. In fact very often we assume that there exists some distribution $p(x,y)$ over our features and labels, such that our training data is composed of independent samples from this distribution -- that is $x^{(n)}, y^{(n)} \\sim p(x, y)$ for all $x^{(n)}, y^{(n)} \\in \\mathcal{D}$. We assume that unseen data are also samples from the same distribution.\n",
    "\n",
    "**Generalization error** is the *expected error* of our model $f: x \\mapsto y$ under this distribution:\n",
    "$$\n",
    "Err(f) = \\mathbb{E}_{x,y \\sim p}[\\ell(f(x), y)].\n",
    "$$\n",
    "Here $\\ell$ is some *loss function* such as classification error $\\ell(y, \\hat{y}) = \\mathbb{I}(y \\neq \\hat{y})$ or square loss $\\ell(y, \\hat{y}) = (y - \\hat{y})^2$ that we often use in regression.\n",
    "\n",
    "## Test set\n",
    "Unfortunately, we don't have access to the true data distribution, we only have samples from this dataset. We can estimate the generalization error by setting aside a portion of our dataset that **we do not using in any way in learning or selecting the model**. This part of the dataset is called the **test set**. Let's use $\\mathcal{D}_{\\text{train}}$ and $\\mathcal{D}_{\\text{test}}$ to this partitioning of our original dataset $\\mathcal{D}$. The **test error** is\n",
    "$$\n",
    "\\widehat{Err}(f) = \\mathbb{E}_{x, y \\sim \\mathcal{D}_{\\text{test}}}[\\ell(f(x), y)] = \\frac{1}{|\\mathcal{D}_{\\text{test}}|} \\sum_{x,y \\in \\mathcal{D}_{\\text{test}}} \\ell(f(x), y).\n",
    "$$"
   ],
   "metadata": {
    "collapsed": false,
    "pycharm": {
     "name": "#%% md\n"
    }
   }
  },
  {
   "cell_type": "markdown",
   "source": [
    "## Model selection using validation data"
   ],
   "metadata": {
    "collapsed": false,
    "pycharm": {
     "name": "#%% md\n"
    }
   }
  },
  {
   "cell_type": "markdown",
   "source": [
    "We can split the data twice:\n",
    "\t1. first split the entire data into training and testing set\n",
    "\t2. then split the training data into training and validation set\n"
   ],
   "metadata": {
    "collapsed": false,
    "pycharm": {
     "name": "#%% md\n"
    }
   }
  },
  {
   "cell_type": "code",
   "execution_count": 34,
   "outputs": [],
   "source": [
    "X_train, X_test, y_train, y_test = \\\n",
    "    train_test_split(X, y, test_size=0.2, random_state=11)\n",
    "\n",
    "X_train, X_valid, y_train, y_valid = \\\n",
    "    train_test_split(X_train, y_train, test_size=0.2, random_state=11)"
   ],
   "metadata": {
    "collapsed": false,
    "pycharm": {
     "name": "#%%\n"
    }
   }
  },
  {
   "cell_type": "markdown",
   "source": [
    "Use validation data to choose K in the range from 1 to 10"
   ],
   "metadata": {
    "collapsed": false,
    "pycharm": {
     "name": "#%% md\n"
    }
   }
  },
  {
   "cell_type": "code",
   "execution_count": 35,
   "outputs": [
    {
     "name": "stdout",
     "output_type": "stream",
     "text": [
      "0.9444444444444444\n"
     ]
    },
    {
     "data": {
      "text/plain": "<Figure size 432x288 with 1 Axes>",
      "image/png": "[encoded data removed]"
     },
     "metadata": {
      "needs_background": "light"
     },
     "output_type": "display_data"
    }
   ],
   "source": [
    "model_choices=[]\n",
    "valid_acc = []\n",
    "\n",
    "n_valid = y_valid.shape[0]\n",
    "\n",
    "for k in range(1,11):\n",
    "    knn = KNeighborsClassifier(n_neighbors=k) # create a KNN object (OOP)\n",
    "    knn.fit(X_train, y_train)\n",
    "    y_valid_pred = knn.predict(X_valid)\n",
    "    accuracy = np.sum(y_valid_pred == y_valid)/n_valid\n",
    "    model_choices.append(k)\n",
    "    valid_acc.append(accuracy)\n",
    "\n",
    "# use the best K to predict test data\n",
    "best_valid_K = model_choices[valid_acc.index(max(valid_acc))]\n",
    "knn = KNeighborsClassifier(n_neighbors=best_valid_K)\n",
    "knn.fit(X_train, y_train)\n",
    "y_test_pred = knn.predict(X_test)\n",
    "test_accuracy = np.sum(y_test_pred == y_test)/y_test.shape[0]\n",
    "print(test_accuracy)\n",
    "\n",
    "plt.clf()\n",
    "plt.plot(model_choices, valid_acc, marker='o', color='blue', label='validation')\n",
    "plt.plot(best_valid_K, test_accuracy, marker='*', color='red', label='testing')\n",
    "plt.xlabel(\"K\")\n",
    "plt.ylabel(\"Accuracy\")\n",
    "plt.legend(loc='best')\n",
    "\n",
    "# plt.show()\n",
    "plt.savefig(\"training_validation_testing.png\",bbox_inches='tight', dpi=300)"
   ],
   "metadata": {
    "collapsed": false,
    "pycharm": {
     "name": "#%%\n"
    }
   }
  },
  {
   "cell_type": "markdown",
   "source": [
    "## True/false positive rates\n",
    "\n",
    "True negative (TN)\n",
    "* Negative example that is predicted to be negative\n",
    "* A person who is predicted to be healthy and in fact is healthy\n",
    "\n",
    "False positive (FP)\n",
    "* Negative example that is predicted to be positive\n",
    "* A person who is predicted to have cancer but in fact is healthy\n",
    "\n",
    "False negative (FN)\n",
    "* Positive example that is predicted to be negative\n",
    "* A person who is predicted to be healthy but in fact has cancer\n",
    "\n",
    "True positive (TP)\n",
    "* Positive example that is predicted to be positive\n",
    "* A person who is predicted to have cancer and in fact has cancer"
   ],
   "metadata": {
    "collapsed": false,
    "pycharm": {
     "name": "#%% md\n"
    }
   }
  },
  {
   "cell_type": "markdown",
   "source": [
    "We can compute a confusion matrix that contains TN, FP, FN, and TP as follows."
   ],
   "metadata": {
    "collapsed": false,
    "pycharm": {
     "name": "#%% md\n"
    }
   }
  },
  {
   "cell_type": "code",
   "execution_count": 36,
   "outputs": [
    {
     "name": "stdout",
     "output_type": "stream",
     "text": [
      "                 Predicted Negative  Predicted Positive\n",
      "Actual Negative                  22                   0\n",
      "Actual Positive                   2                  12\n"
     ]
    }
   ],
   "source": [
    "import pandas as pd\n",
    "### confusion matrix ###\n",
    "from sklearn.metrics import confusion_matrix\n",
    "\n",
    "cm = confusion_matrix(y_test, y_test_pred)\n",
    "\n",
    "cm_df = pd.DataFrame(cm, index=['Actual Negative','Actual Positive'],\n",
    "                     columns=['Predicted Negative', 'Predicted Positive'])\n",
    "print(cm_df)"
   ],
   "metadata": {
    "collapsed": false,
    "pycharm": {
     "name": "#%%\n"
    }
   }
  },
  {
   "cell_type": "markdown",
   "source": [
    "## True/false positive rates\n",
    "\n",
    "True negative (TN)\n",
    "* Negative example that is predicted to be negative\n",
    "* A person who is predicted to be healthy and in fact is healthy\n",
    "\n",
    "False positive (FP)\n",
    "* Negative example that is predicted to be positive\n",
    "* A person who is predicted to have cancer but in fact is healthy\n",
    "\n",
    "False negative (FN)\n",
    "* Positive example that is predicted to be negative\n",
    "* A person who is predicted to be healthy but in fact has cancer\n",
    "\n",
    "True positive (TP)\n",
    "* Positive example that is predicted to be positive\n",
    "* A person who is predicted to have cancer and in fact has cancer"
   ],
   "metadata": {
    "collapsed": false,
    "pycharm": {
     "name": "#%% md\n"
    }
   }
  },
  {
   "cell_type": "markdown",
   "source": [
    "We can compute a confusion matrix that contains TN, FP, FN, and TP as follows."
   ],
   "metadata": {
    "collapsed": false,
    "pycharm": {
     "name": "#%% md\n"
    }
   }
  },
  {
   "cell_type": "code",
   "execution_count": 37,
   "outputs": [
    {
     "name": "stdout",
     "output_type": "stream",
     "text": [
      "                 Predicted Negative  Predicted Positive\n",
      "Actual Negative                  22                   0\n",
      "Actual Positive                   2                  12\n"
     ]
    }
   ],
   "source": [
    "import pandas as pd\n",
    "### confusion matrix ###\n",
    "from sklearn.metrics import confusion_matrix\n",
    "\n",
    "cm = confusion_matrix(y_test, y_test_pred)\n",
    "\n",
    "cm_df = pd.DataFrame(cm, index=['Actual Negative','Actual Positive'],\n",
    "                     columns=['Predicted Negative', 'Predicted Positive'])\n",
    "print(cm_df)"
   ],
   "metadata": {
    "collapsed": false,
    "pycharm": {
     "name": "#%%\n"
    }
   }
  },
  {
   "cell_type": "markdown",
   "source": [
    "## Receiver Operating Characteristic (ROC) Curve\n",
    "\n",
    "Instead of setting an arbitrary threhold on the probabilities score we can evalaute the method based on *all thresholds* and compute the ROC using the resulting True Postiive Rates (y-axis) and False Positive Rates (x-axis) as follows."
   ],
   "metadata": {
    "collapsed": false,
    "pycharm": {
     "name": "#%% md\n"
    }
   }
  },
  {
   "cell_type": "code",
   "execution_count": 38,
   "outputs": [
    {
     "data": {
      "text/plain": "<Figure size 432x288 with 1 Axes>",
      "image/png": "[encoded data removed]"
     },
     "metadata": {
      "needs_background": "light"
     },
     "output_type": "display_data"
    }
   ],
   "source": [
    "from sklearn.metrics import roc_curve, roc_auc_score\n",
    "\n",
    "knn = KNeighborsClassifier() # create a KNN object (OOP)\n",
    "knn.fit(X_train, y_train)\n",
    "# column 0 is healthy\n",
    "# column 1 is cancer\n",
    "y_test_prob = knn.predict_proba(X_test)[:,1]\n",
    "fpr, tpr, thresholds = roc_curve(y_test, y_test_prob)\n",
    "roc_auc = roc_auc_score(y_test, y_test_prob)\n",
    "\n",
    "plt.clf()\n",
    "plt.plot(fpr, tpr, \"b-\", lw=2, label=\"AUROC = %0.2f\"%roc_auc)\n",
    "plt.xlabel('False Positive Rate')\n",
    "plt.ylabel('True Positive Rate')\n",
    "plt.title('ROC in predicting cancer')\n",
    "plt.legend(loc=\"best\")\n",
    "plt.savefig(\"roc_curve.png\",bbox_inches='tight', dpi=300)"
   ],
   "metadata": {
    "collapsed": false,
    "pycharm": {
     "name": "#%%\n"
    }
   }
  },
  {
   "cell_type": "markdown",
   "source": [
    "We can compute a confusion matrix that contains TN, FP, FN, and TP as follows."
   ],
   "metadata": {
    "collapsed": false,
    "pycharm": {
     "name": "#%% md\n"
    }
   }
  },
  {
   "cell_type": "markdown",
   "source": [
    "## Cross validation"
   ],
   "metadata": {
    "collapsed": false,
    "pycharm": {
     "name": "#%% md\n"
    }
   }
  },
  {
   "cell_type": "code",
   "execution_count": 39,
   "outputs": [
    {
     "data": {
      "text/plain": "<Figure size 432x288 with 1 Axes>",
      "image/png": "[encoded data removed]"
     },
     "metadata": {
      "needs_background": "light"
     },
     "output_type": "display_data"
    }
   ],
   "source": [
    "from sklearn.linear_model import LogisticRegression\n",
    "from sklearn.tree import DecisionTreeClassifier\n",
    "from sklearn.neighbors import KNeighborsClassifier\n",
    "from sklearn.model_selection import KFold\n",
    "\n",
    "\n",
    "def cross_validate(model, X_input, Y_output):\n",
    "    kf = KFold(n_splits=5, random_state=1, shuffle=True)\n",
    "    true_labels = np.array([0] * X_input.shape[0])\n",
    "    pred_scores = np.array([0.0] * X_input.shape[0])\n",
    "    for train_index, test_index in kf.split(X_input):\n",
    "        model.fit(X_input[train_index], Y_output[train_index])\n",
    "        true_labels[test_index] = Y_output[test_index]\n",
    "        pred_scores[test_index] = model.predict_proba(X_input[test_index])[:,1]\n",
    "    return true_labels, pred_scores\n",
    "\n",
    "\n",
    "### Method comparison ###\n",
    "models = [LogisticRegression(),\n",
    "          KNeighborsClassifier(),\n",
    "          DecisionTreeClassifier()]\n",
    "\n",
    "perf = {}\n",
    "\n",
    "for model in models:\n",
    "    model_name = type(model).__name__\n",
    "    # print(model_name)\n",
    "    label,pred = cross_validate(model, X, y)\n",
    "    fpr, tpr, _ = roc_curve(label, pred)\n",
    "    auc = roc_auc_score(label, pred)\n",
    "    perf[model_name] = {'fpr':fpr,'tpr':tpr,'auc':auc}\n",
    "\n",
    "\n",
    "fig = plt.figure()\n",
    "\n",
    "import matplotlib.pyplot as plt\n",
    "\n",
    "i = 0\n",
    "for model_name, model_perf in perf.items():\n",
    "    plt.plot(model_perf['fpr'], model_perf['tpr'],\n",
    "             label=model_name)\n",
    "    plt.text(0.4, i, model_name + ': AUC = '+\n",
    "             str(round(model_perf['auc'],2)))\n",
    "    i += 0.1\n",
    "\n",
    "plt.legend(loc='upper center',\n",
    "           bbox_to_anchor=(0.75, 0.5))\n",
    "plt.xlabel(\"False Positive Rate\")\n",
    "plt.ylabel(\"True Positive Rate\")\n",
    "\n",
    "plt.savefig('roc_multimethods.png', bbox_inches='tight', dpi=300)"
   ],
   "metadata": {
    "collapsed": false,
    "pycharm": {
     "name": "#%%\n"
    }
   }
  },
  {
   "cell_type": "code",
   "execution_count": 39,
   "outputs": [],
   "source": [],
   "metadata": {
    "collapsed": false,
    "pycharm": {
     "name": "#%%\n"
    }
   }
  },
  {
   "cell_type": "markdown",
   "source": [
    "We can compute a confusion matrix that contains TN, FP, FN, and TP as follows."
   ],
   "metadata": {
    "collapsed": false,
    "pycharm": {
     "name": "#%% md\n"
    }
   }
  },
  {
   "cell_type": "code",
   "execution_count": 40,
   "outputs": [
    {
     "name": "stdout",
     "output_type": "stream",
     "text": [
      "                 Predicted Negative  Predicted Positive\n",
      "Actual Negative                  22                   0\n",
      "Actual Positive                   2                  12\n"
     ]
    }
   ],
   "source": [
    "import pandas as pd\n",
    "### confusion matrix ###\n",
    "from sklearn.metrics import confusion_matrix\n",
    "\n",
    "cm = confusion_matrix(y_test, y_test_pred)\n",
    "\n",
    "cm_df = pd.DataFrame(cm, index=['Actual Negative','Actual Positive'],\n",
    "                     columns=['Predicted Negative', 'Predicted Positive'])\n",
    "print(cm_df)"
   ],
   "metadata": {
    "collapsed": false,
    "pycharm": {
     "name": "#%%\n"
    }
   }
  },
  {
   "cell_type": "markdown",
   "source": [
    "## Receiver Operating Characteristic (ROC) Curve\n",
    "\n",
    "Instead of setting an arbitrary threhold on the probabilities score we can evalaute the method based on *all thresholds* and compute the ROC using the resulting True Postiive Rates (y-axis) and False Positive Rates (x-axis) as follows."
   ],
   "metadata": {
    "collapsed": false,
    "pycharm": {
     "name": "#%% md\n"
    }
   }
  },
  {
   "cell_type": "code",
   "execution_count": 41,
   "outputs": [
    {
     "data": {
      "text/plain": "<Figure size 432x288 with 1 Axes>",
      "image/png": "[encoded data removed]"
     },
     "metadata": {
      "needs_background": "light"
     },
     "output_type": "display_data"
    }
   ],
   "source": [
    "from sklearn.metrics import roc_curve, roc_auc_score\n",
    "\n",
    "knn = KNeighborsClassifier() # create a KNN object (OOP)\n",
    "knn.fit(X_train, y_train)\n",
    "# column 0 is healthy\n",
    "# column 1 is cancer\n",
    "y_test_prob = knn.predict_proba(X_test)[:,1]\n",
    "fpr, tpr, thresholds = roc_curve(y_test, y_test_prob)\n",
    "roc_auc = roc_auc_score(y_test, y_test_prob)\n",
    "\n",
    "plt.clf()\n",
    "plt.plot(fpr, tpr, \"b-\", lw=2, label=\"AUROC = %0.2f\"%roc_auc)\n",
    "plt.xlabel('False Positive Rate')\n",
    "plt.ylabel('True Positive Rate')\n",
    "plt.title('ROC in predicting cancer')\n",
    "plt.legend(loc=\"best\")\n",
    "plt.savefig(\"roc_curve.png\",bbox_inches='tight', dpi=300)"
   ],
   "metadata": {
    "collapsed": false,
    "pycharm": {
     "name": "#%%\n"
    }
   }
  },
  {
   "cell_type": "markdown",
   "source": [
    "We can compute a confusion matrix that contains TN, FP, FN, and TP as follows."
   ],
   "metadata": {
    "collapsed": false,
    "pycharm": {
     "name": "#%% md\n"
    }
   }
  },
  {
   "cell_type": "markdown",
   "source": [
    "## Cross validation"
   ],
   "metadata": {
    "collapsed": false,
    "pycharm": {
     "name": "#%% md\n"
    }
   }
  },
  {
   "cell_type": "code",
   "execution_count": 42,
   "outputs": [
    {
     "data": {
      "text/plain": "<Figure size 432x288 with 1 Axes>",
      "image/png": "[encoded data removed]"
     },
     "metadata": {
      "needs_background": "light"
     },
     "output_type": "display_data"
    }
   ],
   "source": [
    "from sklearn.linear_model import LogisticRegression\n",
    "from sklearn.tree import DecisionTreeClassifier\n",
    "from sklearn.neighbors import KNeighborsClassifier\n",
    "from sklearn.model_selection import KFold\n",
    "\n",
    "\n",
    "def cross_validate(model, X_input, Y_output):\n",
    "    kf = KFold(n_splits=5, random_state=1, shuffle=True)\n",
    "    true_labels = np.array([0] * X_input.shape[0])\n",
    "    pred_scores = np.array([0.0] * X_input.shape[0])\n",
    "    for train_index, test_index in kf.split(X_input):\n",
    "        model.fit(X_input[train_index], Y_output[train_index])\n",
    "        true_labels[test_index] = Y_output[test_index]\n",
    "        pred_scores[test_index] = model.predict_proba(X_input[test_index])[:,1]\n",
    "    return true_labels, pred_scores\n",
    "\n",
    "\n",
    "### Method comparison ###\n",
    "models = [LogisticRegression(),\n",
    "          KNeighborsClassifier(),\n",
    "          DecisionTreeClassifier()]\n",
    "\n",
    "perf = {}\n",
    "\n",
    "for model in models:\n",
    "    model_name = type(model).__name__\n",
    "    # print(model_name)\n",
    "    label,pred = cross_validate(model, X, y)\n",
    "    fpr, tpr, _ = roc_curve(label, pred)\n",
    "    auc = roc_auc_score(label, pred)\n",
    "    perf[model_name] = {'fpr':fpr,'tpr':tpr,'auc':auc}\n",
    "\n",
    "\n",
    "fig = plt.figure()\n",
    "\n",
    "import matplotlib.pyplot as plt\n",
    "\n",
    "i = 0\n",
    "for model_name, model_perf in perf.items():\n",
    "    plt.plot(model_perf['fpr'], model_perf['tpr'],\n",
    "             label=model_name)\n",
    "    plt.text(0.4, i, model_name + ': AUC = '+\n",
    "             str(round(model_perf['auc'],2)))\n",
    "    i += 0.1\n",
    "\n",
    "plt.legend(loc='upper center',\n",
    "           bbox_to_anchor=(0.75, 0.5))\n",
    "plt.xlabel(\"False Positive Rate\")\n",
    "plt.ylabel(\"True Positive Rate\")\n",
    "\n",
    "plt.savefig('roc_multimethods.png', bbox_inches='tight', dpi=300)"
   ],
   "metadata": {
    "collapsed": false,
    "pycharm": {
     "name": "#%%\n"
    }
   }
  },
  {
   "cell_type": "code",
   "execution_count": 42,
   "outputs": [],
   "source": [],
   "metadata": {
    "collapsed": false,
    "pycharm": {
     "name": "#%%\n"
    }
   }
  },
  {
   "cell_type": "markdown",
   "source": [
    "## True/false positive rates\n",
    "\n",
    "True negative (TN)\n",
    "* Negative example that is predicted to be negative\n",
    "* A person who is predicted to be healthy and in fact is healthy\n",
    "\n",
    "False positive (FP)\n",
    "* Negative example that is predicted to be positive\n",
    "* A person who is predicted to have cancer but in fact is healthy\n",
    "\n",
    "False negative (FN)\n",
    "* Positive example that is predicted to be negative\n",
    "* A person who is predicted to be healthy but in fact has cancer\n",
    "\n",
    "True positive (TP)\n",
    "* Positive example that is predicted to be positive\n",
    "* A person who is predicted to have cancer and in fact has cancer"
   ],
   "metadata": {
    "collapsed": false,
    "pycharm": {
     "name": "#%% md\n"
    }
   }
  },
  {
   "cell_type": "markdown",
   "source": [
    "We can compute a confusion matrix that contains TN, FP, FN, and TP as follows."
   ],
   "metadata": {
    "collapsed": false,
    "pycharm": {
     "name": "#%% md\n"
    }
   }
  },
  {
   "cell_type": "code",
   "execution_count": 43,
   "outputs": [
    {
     "name": "stdout",
     "output_type": "stream",
     "text": [
      "                 Predicted Negative  Predicted Positive\n",
      "Actual Negative                  22                   0\n",
      "Actual Positive                   2                  12\n"
     ]
    }
   ],
   "source": [
    "import pandas as pd\n",
    "### confusion matrix ###\n",
    "from sklearn.metrics import confusion_matrix\n",
    "\n",
    "cm = confusion_matrix(y_test, y_test_pred)\n",
    "\n",
    "cm_df = pd.DataFrame(cm, index=['Actual Negative','Actual Positive'],\n",
    "                     columns=['Predicted Negative', 'Predicted Positive'])\n",
    "print(cm_df)"
   ],
   "metadata": {
    "collapsed": false,
    "pycharm": {
     "name": "#%%\n"
    }
   }
  },
  {
   "cell_type": "markdown",
   "source": [
    "## Receiver Operating Characteristic (ROC) Curve\n",
    "\n",
    "Instead of setting an arbitrary threhold on the probabilities score we can evalaute the method based on *all thresholds* and compute the ROC using the resulting True Postiive Rates (y-axis) and False Positive Rates (x-axis) as follows."
   ],
   "metadata": {
    "collapsed": false,
    "pycharm": {
     "name": "#%% md\n"
    }
   }
  },
  {
   "cell_type": "code",
   "execution_count": 48,
   "outputs": [
    {
     "data": {
      "text/plain": "<Figure size 432x288 with 1 Axes>",
      "image/png": "[encoded data removed]"
     },
     "metadata": {
      "needs_background": "light"
     },
     "output_type": "display_data"
    }
   ],
   "source": [
    "from sklearn.metrics import roc_curve, roc_auc_score\n",
    "\n",
    "knn = KNeighborsClassifier() # create a KNN object (OOP)\n",
    "knn.fit(X_train, y_train)\n",
    "# column 0 is healthy\n",
    "# column 1 is cancer\n",
    "y_test_prob = knn.predict_proba(X_test)[:,1]\n",
    "fpr, tpr, thresholds = roc_curve(y_test, y_test_prob)\n",
    "roc_auc = roc_auc_score(y_test, y_test_prob)\n",
    "\n",
    "plt.clf()\n",
    "plt.plot(fpr, tpr, \"b-\", lw=2, label=\"AUROC = %0.2f\"%roc_auc)\n",
    "plt.axline((0, 0), (1, 1), linestyle=\"--\", lw=1, color='gray')\n",
    "plt.xlabel('False Positive Rate')\n",
    "plt.ylabel('True Positive Rate')\n",
    "plt.title('ROC in predicting cancer')\n",
    "plt.legend(loc=\"best\")\n",
    "plt.savefig(\"roc_curve.png\",bbox_inches='tight', dpi=300)"
   ],
   "metadata": {
    "collapsed": false,
    "pycharm": {
     "name": "#%%\n"
    }
   }
  },
  {
   "cell_type": "markdown",
   "source": [
    "# Cross validation\n",
    "\n",
    "In our above example, we split the data into training and testing set. This is quite wasteful because we sacrifice half of the data. To evaluate the data on *every data point*, we can perform K-fold cross-validation.\n",
    "\n",
    "<img src=\"kfold_cv/cross_validation.png\" width=1200>\n",
    "<img src=\"kfold_cv/cross_validation_2.png\" width=1000>"
   ],
   "metadata": {
    "collapsed": false,
    "pycharm": {
     "name": "#%% md\n"
    }
   }
  },
  {
   "cell_type": "code",
   "execution_count": 45,
   "outputs": [
    {
     "name": "stdout",
     "output_type": "stream",
     "text": [
      "LogisticRegression\n",
      "KNeighborsClassifier\n",
      "DecisionTreeClassifier\n"
     ]
    },
    {
     "data": {
      "text/plain": "<Figure size 432x288 with 1 Axes>",
      "image/png": "[encoded data removed]"
     },
     "metadata": {
      "needs_background": "light"
     },
     "output_type": "display_data"
    },
    {
     "data": {
      "text/plain": "<Figure size 432x288 with 1 Axes>",
      "image/png": "[encoded data removed]"
     },
     "metadata": {
      "needs_background": "light"
     },
     "output_type": "display_data"
    }
   ],
   "source": [
    "from sklearn.model_selection import KFold\n",
    "\n",
    "def cross_validate(model, X_input, Y_output):\n",
    "    kf = KFold(n_splits=5, random_state=1, shuffle=True)\n",
    "    true_labels = np.array([0] * X_input.shape[0])\n",
    "    pred_scores = np.array([0.0] * X_input.shape[0])\n",
    "    for train_index, test_index in kf.split(X_input):\n",
    "        model.fit(X_input[train_index], Y_output[train_index])\n",
    "        true_labels[test_index] = Y_output[test_index]\n",
    "        pred_scores[test_index] = model.predict_proba(X_input[test_index])[:,1]\n",
    "    return (true_labels, pred_scores)\n",
    "\n",
    "knn = KNeighborsClassifier()\n",
    "\n",
    "true_labels,pred_scores = cross_validate(knn, X, y)\n",
    "\n",
    "fpr, tpr, _ = roc_curve(true_labels, pred_scores)\n",
    "auc = roc_auc_score(true_labels, pred_scores)\n",
    "\n",
    "fig = plt.figure()\n",
    "ax = fig.add_subplot(111)\n",
    "\n",
    "# plot the roc curve for the model\n",
    "plt.plot(fpr, tpr, marker='.')\n",
    "\n",
    "plt.text(0.7, 0.3, 'AUC: '+str(round(auc,2)))\n",
    "\n",
    "plt.xlabel(\"False Positive Rate\")\n",
    "plt.ylabel(\"True Positive Rate\")\n",
    "plt.savefig('../figures/prostate_cancer_lr_crossvalid_roc.eps')\n",
    "\n",
    "\n",
    "### Method comparison ###\n",
    "models = [LogisticRegression(solver=\"liblinear\"),\n",
    "          KNeighborsClassifier(),\n",
    "          DecisionTreeClassifier()]\n",
    "\n",
    "perf = {}\n",
    "\n",
    "for model in models:\n",
    "    model_name = type(model).__name__\n",
    "    print(model_name)\n",
    "    label,pred = cross_validate(model, X, y)\n",
    "    fpr, tpr, _ = roc_curve(label, pred)\n",
    "    auc = roc_auc_score(label, pred)\n",
    "    perf[model_name] = {'fpr':fpr,'tpr':tpr,'auc':auc}\n",
    "\n",
    "\n",
    "fig = plt.figure()\n",
    "\n",
    "import matplotlib.pyplot as plt\n",
    "\n",
    "i = 0\n",
    "for model_name, model_perf in perf.items():\n",
    "    plt.plot(model_perf['fpr'], model_perf['tpr'],\n",
    "             label=model_name)\n",
    "    plt.text(0.4, i, model_name + ': AUC = '+\n",
    "             str(round(model_perf['auc'],2)))\n",
    "    i += 0.1\n",
    "\n",
    "plt.legend(loc='upper center',\n",
    "           bbox_to_anchor=(0.75, 0.5))\n",
    "plt.xlabel(\"False Positive Rate\")\n",
    "plt.ylabel(\"True Positive Rate\")\n",
    "\n",
    "plt.savefig('roc_multimethods.png', bbox_inches='tight', dpi=300)"
   ],
   "metadata": {
    "collapsed": false,
    "pycharm": {
     "name": "#%%\n"
    }
   }
  }
 ],
 "metadata": {
  "kernelspec": {
   "display_name": "Python 3",
   "language": "python",
   "name": "python3"
  },
  "language_info": {
   "codemirror_mode": {
    "name": "ipython",
    "version": 2
   },
   "file_extension": ".py",
   "mimetype": "text/x-python",
   "name": "python",
   "nbconvert_exporter": "python",
   "pygments_lexer": "ipython2",
   "version": "2.7.6"
  }
 },
 "nbformat": 4,
 "nbformat_minor": 0
}