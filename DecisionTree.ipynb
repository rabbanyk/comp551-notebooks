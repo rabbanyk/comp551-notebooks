{
 "cells": [
  {
   "cell_type": "markdown",
   "metadata": {
    "id": "Cb1hgpq992UR",
    "pycharm": {
     "name": "#%% md\n"
    }
   },
   "source": [
    "[![Open In Colab](https://colab.research.google.com/assets/colab-badge.svg)](https://colab.research.google.com/github/yueliyl/comp551-notebooks/blob/master/DecisionTree.ipynb)\n",
    "\n",
    "# Decision tree \n",
    "We want implement a decision tree for classification from scratch. For this, first we define a data-structure to represent nodes, then we define a function to pick the best *test* for a node based on a *cost function*. Starting from the root node, we use this test function recursively to find the best split until a *max-depth* is reached. Procedures closely follow our presentation in the class. This implementation is rather involved. You may find it  more difficult to follow compared to KNN implementation. "
   ]
  },
  {
   "cell_type": "markdown",
   "metadata": {
    "id": "9czgntjHFFTg",
    "pycharm": {
     "name": "#%% md\n"
    }
   },
   "source": [
    "##Initialization"
   ]
  },
  {
   "cell_type": "code",
   "execution_count": 11,
   "metadata": {
    "id": "tvP8QXcn92US",
    "pycharm": {
     "name": "#%%\n"
    }
   },
   "outputs": [],
   "source": [
    "import numpy as np\n",
    "#%matplotlib notebook\n",
    "%matplotlib inline\n",
    "import matplotlib.pyplot as plt\n",
    "from IPython.core.debugger import set_trace\n",
    "np.random.seed(1234)"
   ]
  },
  {
   "cell_type": "markdown",
   "metadata": {
    "id": "z_z4Qs8092UY",
    "pycharm": {
     "name": "#%% md\n"
    }
   },
   "source": [
    "## Data structure\n",
    "We use a binary tree to assign information to the nodes of the decision tree. In particular, the instances associated with that node (`data_indices`) and the test that is used to further split that node, in the case non-leaf nodes (`split_feature, split_value`). Here, we assume each test involves a single feature, and all features are real-valued."
   ]
  },
  {
   "cell_type": "code",
   "execution_count": 12,
   "metadata": {
    "id": "NEwmX3Xi92UY",
    "pycharm": {
     "name": "#%%\n"
    }
   },
   "outputs": [],
   "source": [
    "class Node:\n",
    "    def __init__(self, data_indices, parent):\n",
    "        self.data_indices = data_indices                    #stores the data indices which are in the region defined by this node\n",
    "        self.left = None                                    #stores the left child of the node \n",
    "        self.right = None                                   #stores the right child of the node\n",
    "        self.split_feature = None                           #the feature for split at this node\n",
    "        self.split_value = None                             #the value of the feature for split at this node\n",
    "        if parent:\n",
    "            self.depth = parent.depth + 1                   #obtain the dept of the node by adding one to dept of the parent \n",
    "            self.num_classes = parent.num_classes           #copies the num classes from the parent \n",
    "            self.data = parent.data                         #copies the data from the parent\n",
    "            self.labels = parent.labels                     #copies the labels from the parent\n",
    "            class_prob = np.bincount(self.labels[data_indices], minlength=self.num_classes) #this is counting frequency of different labels in the region defined by this node\n",
    "            self.class_prob = class_prob / np.sum(class_prob)  #stores the class probability for the node\n",
    "            #note that we'll use the class probabilites of the leaf nodes for making predictions after the tree is built"
   ]
  },
  {
   "cell_type": "markdown",
   "metadata": {
    "id": "W-9QNkez92Ub",
    "pycharm": {
     "name": "#%% md\n"
    }
   },
   "source": [
    "## Greedy spliting of a node\n",
    "Given a node, we consider all possible feature-value combinations for splitting the data. One such **test** that produces the lowest cost according to a supplied cost function (`cost_fn`) is returned."
   ]
  },
  {
   "cell_type": "code",
   "execution_count": 13,
   "metadata": {
    "id": "fJclNLqw92Ub",
    "pycharm": {
     "name": "#%%\n"
    }
   },
   "outputs": [],
   "source": [
    "def greedy_test(node, cost_fn):\n",
    "    #initialize the best parameter values\n",
    "    best_cost = np.inf\n",
    "    best_feature, best_value = None, None\n",
    "    num_instances, num_features = node.data.shape\n",
    "    #sort the features to get the test value candidates by taking the average of consecutive sorted feature values \n",
    "    data_sorted = np.sort(node.data[node.data_indices],axis=0)\n",
    "    test_candidates = (data_sorted[1:] + data_sorted[:-1]) / 2.\n",
    "    for f in range(num_features):\n",
    "        #stores the data corresponding to the f-th feature\n",
    "        data_f = node.data[node.data_indices, f]\n",
    "        for test in test_candidates[:,f]:\n",
    "            #Split the indices using the test value of f-th feature\n",
    "            left_indices = node.data_indices[data_f <= test]\n",
    "            right_indices = node.data_indices[data_f > test]\n",
    "            #we can't have a split where a child has zero element\n",
    "            #if this is true over all the test features and their test values  then the function returns the best cost as infinity\n",
    "            if len(left_indices) == 0 or len(right_indices) == 0:                \n",
    "                continue\n",
    "            #compute the left and right cost based on the current split                                                         \n",
    "            left_cost = cost_fn(node.labels[left_indices])\n",
    "            right_cost = cost_fn(node.labels[right_indices])\n",
    "            num_left, num_right = left_indices.shape[0], right_indices.shape[0]\n",
    "            #get the combined cost using the weighted sum of left and right cost\n",
    "            cost = (num_left * left_cost + num_right * right_cost)/num_instances\n",
    "            #update only when a lower cost is encountered\n",
    "            if cost < best_cost:\n",
    "                best_cost = cost\n",
    "                best_feature = f\n",
    "                best_value = test\n",
    "    return best_cost, best_feature, best_value"
   ]
  },
  {
   "cell_type": "markdown",
   "metadata": {
    "id": "-GjjJhkb92Ue",
    "pycharm": {
     "name": "#%% md\n"
    }
   },
   "source": [
    "## Cost functions\n",
    "\n",
    "Below we implement two cost functions corresponding to misclassification rate and entropy."
   ]
  },
  {
   "cell_type": "code",
   "execution_count": 14,
   "metadata": {
    "id": "_Fa_FkuK92Uf",
    "pycharm": {
     "name": "#%%\n"
    }
   },
   "outputs": [],
   "source": [
    "#computes misclassification cost by subtracting the maximum probability of any class\n",
    "def cost_misclassification(labels):\n",
    "    counts = np.bincount(labels) \n",
    "    class_probs = counts / np.sum(counts)\n",
    "    #you could compress both the steps above by doing class_probs = np.bincount(labels) / len(labels)\n",
    "    return 1 - np.max(class_probs)\n",
    "\n",
    "#computes entropy of the labels by computing the class probabilities\n",
    "def cost_entropy(labels):\n",
    "    class_probs = np.bincount(labels) / len(labels)\n",
    "    class_probs = class_probs[class_probs > 0]              #this steps is remove 0 probabilities for removing numerical issues while computing log\n",
    "    return -np.sum(class_probs * np.log2(class_probs))       #expression for entropy -\\sigma p(x)log[p(x)]\n",
    "\n",
    "#computes the gini index cost\n",
    "def cost_gini_index(labels):\n",
    "    class_probs = np.bincount(labels) / len(labels)\n",
    "    return 1 - np.sum(np.square(class_probs))               #expression for gini index 1-\\sigma p(x)^2"
   ]
  },
  {
   "cell_type": "markdown",
   "metadata": {
    "id": "PDlnrs8U92Uh",
    "pycharm": {
     "name": "#%% md\n"
    }
   },
   "source": [
    "we are now ready to implement the classifier:\n",
    "\n",
    "when to stop splitting?\n",
    "1. if there are not enough points under the current node (`min_leaf_instances`)\n",
    "2. if reached maximum depth (`max_depth`)\n",
    "3. if the decrease in the cost is negligible (not implemented)\n",
    "Below is the template for the class, next we implement `fit` and `predict` methods."
   ]
  },
  {
   "cell_type": "code",
   "execution_count": 15,
   "metadata": {
    "id": "kMx7Brw292Uh",
    "pycharm": {
     "name": "#%%\n"
    }
   },
   "outputs": [],
   "source": [
    "class DecisionTree:\n",
    "    def __init__(self, num_classes=None, max_depth=3, cost_fn=cost_misclassification, min_leaf_instances=1):\n",
    "        self.max_depth = max_depth      #maximum dept for termination \n",
    "        self.root = None                #stores the root of the decision tree \n",
    "        self.cost_fn = cost_fn          #stores the cost function of the decision tree \n",
    "        self.num_classes = num_classes  #stores the total number of classes\n",
    "        self.min_leaf_instances = min_leaf_instances  #minimum number of instances in a leaf for termination\n",
    "        \n",
    "    def fit(self, data, labels):\n",
    "        pass                            #pass in python 3 means nothing happens and the method here is empty\n",
    "    \n",
    "    def predict(self, data_test):\n",
    "        pass"
   ]
  },
  {
   "cell_type": "markdown",
   "metadata": {
    "id": "Gbsp5yvB92Ul",
    "pycharm": {
     "name": "#%% md\n"
    }
   },
   "source": [
    "## Fit\n",
    "To fit the tree to the data, we call the `_fit_tree` method on the `root_node` of the tree. In this method the _best_ test (split) for the current node is found, and the method is recursively called on the left and right child. If the `max_depth` is reached or the number of instances under the current node is below `min_leaf_instances` the node is not split anymore, resulting in a leaf node."
   ]
  },
  {
   "cell_type": "code",
   "execution_count": 16,
   "metadata": {
    "id": "-NOsuJEc92Ul",
    "pycharm": {
     "name": "#%%\n"
    }
   },
   "outputs": [],
   "source": [
    "def fit(self, data, labels):\n",
    "    self.data = data\n",
    "    self.labels = labels\n",
    "    if self.num_classes is None:\n",
    "        self.num_classes = np.max(labels) + 1\n",
    "    #below are initialization of the root of the decision tree\n",
    "    self.root = Node(np.arange(data.shape[0]), None)\n",
    "    self.root.data = data\n",
    "    self.root.labels = labels\n",
    "    self.root.num_classes = self.num_classes\n",
    "    self.root.depth = 0\n",
    "    #to recursively build the rest of the tree\n",
    "    self._fit_tree(self.root)\n",
    "    return self\n",
    "\n",
    "def _fit_tree(self, node):\n",
    "    #This gives the condition for termination of the recursion resulting in a leaf node\n",
    "    if node.depth == self.max_depth or len(node.data_indices) <= self.min_leaf_instances:\n",
    "        return\n",
    "    #greedily select the best test by minimizing the cost\n",
    "    cost, split_feature, split_value = greedy_test(node, self.cost_fn)\n",
    "    #if the cost returned is infinity it means that it is not possible to split the node and hence terminate\n",
    "    if np.isinf(cost):\n",
    "        return\n",
    "    #print(f'best feature: {split_feature}, value {split_value}, cost {cost}')\n",
    "    #to get a boolean array suggesting which data indices corresponding to this node are in the left of the split\n",
    "    test = node.data[node.data_indices,split_feature] <= split_value\n",
    "    #store the split feature and value of the node\n",
    "    node.split_feature = split_feature\n",
    "    node.split_value = split_value\n",
    "    #define new nodes which are going to be the left and right child of the present node\n",
    "    left = Node(node.data_indices[test], node)\n",
    "    right = Node(node.data_indices[np.logical_not(test)], node)\n",
    "    #recursive call to the _fit_tree()\n",
    "    self._fit_tree(left)\n",
    "    self._fit_tree(right)\n",
    "    #assign the left and right child to present child\n",
    "    node.left = left\n",
    "    node.right = right\n",
    "\n",
    "DecisionTree.fit = fit\n",
    "DecisionTree._fit_tree = _fit_tree"
   ]
  },
  {
   "cell_type": "markdown",
   "metadata": {
    "id": "bAZdSNN392Ut",
    "pycharm": {
     "name": "#%% md\n"
    }
   },
   "source": [
    "## New predictions\n",
    "Given a new instance, starting from the `root` of the `DecisionTree` we check to see if the instance falls in the left or right split, and repeat the process with left or right node depending on the test, until we reach a leaf node. The class probabilities of the training data under the leaf is returned."
   ]
  },
  {
   "cell_type": "code",
   "execution_count": 17,
   "metadata": {
    "id": "dLmilufw92Uu",
    "pycharm": {
     "name": "#%%\n"
    }
   },
   "outputs": [],
   "source": [
    "def predict(self, data_test):\n",
    "    class_probs = np.zeros((data_test.shape[0], self.num_classes))\n",
    "    for n, x in enumerate(data_test):\n",
    "        node = self.root\n",
    "        #loop along the dept of the tree looking region where the present data sample fall in based on the split feature and value\n",
    "        while node.left:\n",
    "            if x[node.split_feature] <= node.split_value:\n",
    "                node = node.left\n",
    "            else:\n",
    "                node = node.right\n",
    "        #the loop terminates when you reach a leaf of the tree and the class probability of that node is taken for prediction\n",
    "        class_probs[n,:] = node.class_prob\n",
    "    return class_probs\n",
    "\n",
    "DecisionTree.predict = predict"
   ]
  },
  {
   "cell_type": "markdown",
   "metadata": {
    "id": "p1Eoy0VX92Ux",
    "pycharm": {
     "name": "#%% md\n"
    }
   },
   "source": [
    "# Experiments\n",
    "For more information on visualizing the model's performace on the data and its decision boundry go through the experiment section of the KNN code or watch the coding tutorial on KNN. \n",
    "We conveniently load the dataset from the sklearn collection of datasets"
   ]
  },
  {
   "cell_type": "code",
   "execution_count": 18,
   "metadata": {
    "id": "HTRlBSMj92U1",
    "pycharm": {
     "name": "#%%\n"
    }
   },
   "outputs": [],
   "source": [
    "from sklearn import datasets\n",
    "dataset = datasets.load_iris()\n",
    "x, y = dataset['data'][:,:2], dataset['target']\n",
    "(num_instances, num_features), num_classes = x.shape, np.max(y)+1\n",
    "inds = np.random.permutation(num_instances)\n",
    "#train-test split)\n",
    "x_train, y_train = x[inds[:100]], y[inds[:100]]\n",
    "x_test, y_test = x[inds[100:]], y[inds[100:]]"
   ]
  },
  {
   "cell_type": "markdown",
   "metadata": {
    "id": "3aJbD0MD92U8",
    "pycharm": {
     "name": "#%% md\n"
    }
   },
   "source": [
    "next we fit the tree to the training data and predict on the test data. "
   ]
  },
  {
   "cell_type": "code",
   "execution_count": 19,
   "metadata": {
    "colab": {
     "base_uri": "https://localhost:8080/",
     "height": 285
    },
    "id": "zpzdRsap92U9",
    "outputId": "2d6e7d72-5717-4d19-9530-745b5acfad5f",
    "pycharm": {
     "name": "#%%\n"
    }
   },
   "outputs": [
    {
     "name": "stdout",
     "output_type": "stream",
     "text": [
      "accuracy is 64.0.\n"
     ]
    },
    {
     "data": {
      "text/plain": "<Figure size 432x288 with 1 Axes>",
      "image/png": "[encoded data removed]"
     },
     "metadata": {
      "needs_background": "light"
     },
     "output_type": "display_data"
    }
   ],
   "source": [
    "tree = DecisionTree(max_depth=20)\n",
    "probs_test = tree.fit(x_train, y_train).predict(x_test)\n",
    "y_pred = np.argmax(probs_test,1)\n",
    "accuracy = np.sum(y_pred == y_test)/y_test.shape[0]\n",
    "print(f'accuracy is {accuracy*100:.1f}.')\n",
    "#visualization\n",
    "correct = y_test == y_pred\n",
    "incorrect = np.logical_not(correct)\n",
    "plt.scatter(x_train[:,0], x_train[:,1], c=y_train, marker='o', alpha=.2, label='train')\n",
    "plt.scatter(x_test[correct,0], x_test[correct,1], marker='.', c=y_pred[correct], label='correct')\n",
    "plt.scatter(x_test[incorrect,0], x_test[incorrect,1], marker='x', c=y_test[incorrect], label='misclassified')\n",
    "plt.legend()\n",
    "plt.show()"
   ]
  },
  {
   "cell_type": "markdown",
   "metadata": {
    "id": "zZx26Ndk92VE",
    "pycharm": {
     "name": "#%% md\n"
    }
   },
   "source": [
    "We then plot the *decision boundary*"
   ]
  },
  {
   "cell_type": "code",
   "execution_count": 20,
   "metadata": {
    "colab": {
     "base_uri": "https://localhost:8080/",
     "height": 282
    },
    "id": "uNtWuiEZ92VF",
    "outputId": "5a8665d9-fc31-42c6-f62c-744b6c99b3bc",
    "pycharm": {
     "name": "#%%\n"
    }
   },
   "outputs": [
    {
     "data": {
      "text/plain": "<Figure size 432x288 with 1 Axes>",
      "image/png": "[encoded data removed]"
     },
     "metadata": {
      "needs_background": "light"
     },
     "output_type": "display_data"
    }
   ],
   "source": [
    "x0v = np.linspace(np.min(x[:,0]), np.max(x[:,0]), 200)\n",
    "x1v = np.linspace(np.min(x[:,1]), np.max(x[:,1]), 200)\n",
    "x0,x1 = np.meshgrid(x0v, x1v)\n",
    "x_all = np.vstack((x0.ravel(),x1.ravel())).T\n",
    "\n",
    "model = DecisionTree(max_depth=200)\n",
    "y_train_prob = np.zeros((y_train.shape[0], num_classes))\n",
    "y_train_prob[np.arange(y_train.shape[0]), y_train] = 1\n",
    "y_prob_all = model.fit(x_train, y_train).predict(x_all)\n",
    "plt.scatter(x_train[:,0], x_train[:,1], c=y_train_prob, marker='o', alpha=1)\n",
    "plt.scatter(x_all[:,0], x_all[:,1], c=y_prob_all, marker='.', alpha=.01)\n",
    "plt.ylabel('sepal length')\n",
    "plt.xlabel('sepal width')\n",
    "plt.show()"
   ]
  }
 ],
 "metadata": {
  "colab": {
   "name": "DecisionTree.ipynb",
   "provenance": []
  },
  "kernelspec": {
   "display_name": "Python 3 (ipykernel)",
   "language": "python",
   "name": "python3"
  },
  "language_info": {
   "codemirror_mode": {
    "name": "ipython",
    "version": 3
   },
   "file_extension": ".py",
   "mimetype": "text/x-python",
   "name": "python",
   "nbconvert_exporter": "python",
   "pygments_lexer": "ipython3",
   "version": "3.9.12"
  }
 },
 "nbformat": 4,
 "nbformat_minor": 1
}